{
 "cells": [
  {
   "cell_type": "markdown",
   "metadata": {},
   "source": [
    "Python数据分析\n",
    "======\n",
    "***"
   ]
  },
  {
   "cell_type": "markdown",
   "metadata": {},
   "source": [
    "课程介绍\n",
    "------\n",
    "\n",
    "> 这不是一门关于Python的语法课，也不是一门讲授统计分析的数学课。我相信关于这两种课程在Coursera上肯定有更为出名的教授讲授更为精彩详细的课程。本课程旨在通过Jupyter Notebook这一优秀的交互式IDE，一步步讲解我个人在工作中遇到的实际问题时的解决方法。受我个人在Python语法和数据分析两方面的经验影响，任何例子都不能保证使用了最好的解决办法。因此，任何关于课程的讨论都是开放的，欢迎所有同学提出任何建设性意见。"
   ]
  },
  {
   "cell_type": "markdown",
   "metadata": {},
   "source": [
    "课程大纲\n",
    "-------\n",
    "\n",
    "1. Jupyter简要介绍\n",
    "1. Python爬虫\n",
    " - 使用Requests和BeautifulSoup写出一个简单的爬虫\n",
    " - 使用Selenium Webdriver解决部分验证问题\n",
    " - 使用Scrapy和Redis完成一个分布式爬虫\n",
    "1. Python数据分析及应用\n",
    " - 使用Pandas进行简单的数据统计分析\n",
    " - 使用Matplotlib进行简单的数据可视化展示\n",
    " - 使用jieba和scikit-learn构建简单的分类模型\n",
    " - 使用whoosh搭建简单的搜索引擎\n"
   ]
  },
  {
   "cell_type": "markdown",
   "metadata": {},
   "source": [
    "Jupyter简要介绍\n",
    "-------\n",
    "\n",
    "> Jupyter是一个记事本：一个包含富文本信息（标题，段落，超链接，数学符号，嵌入式图表和交互式代码）的文档。|"
   ]
  },
  {
   "cell_type": "markdown",
   "metadata": {},
   "source": [
    "### 1. 安装\n",
    "\n",
    "首先，你可以直接访问 [Jupyter](https://try.jupyter.org/) 进行尝试。但是，Jupyter云服务有很多限制，如果你想更深入的了解Jupyter的功能，可以直接使用 pip install jupyter 进行本地安装。这里我推荐使用 [Anaconda](https://www.continuum.io/downloads) 进行安装，anaconda包含了700多个python package，几乎包含了你所有可能的需求。\n",
    "\n",
    "当然，如果你不想安装这么多package，我比较推荐 [miniconda](http://conda.pydata.org/miniconda.html)。miniconda仅仅包含Python和miniconda自己本身的依赖。你可以使用`conda install`安装Jupyter和其他Python Package。例如`conda install jupyter`。如果想要卸载某些使用conda安装的Python Package。可以使用`conda uninstall`。"
   ]
  },
  {
   "cell_type": "markdown",
   "metadata": {},
   "source": [
    "### 2. 使用\n",
    "\n",
    "你可以在Cell里尝试任何四则运算\n",
    "```python\n",
    "    +   -   *   /   **   %   //\n",
    "```"
   ]
  },
  {
   "cell_type": "code",
   "execution_count": 1,
   "metadata": {
    "collapsed": false
   },
   "outputs": [
    {
     "data": {
      "text/plain": [
       "20"
      ]
     },
     "execution_count": 1,
     "metadata": {},
     "output_type": "execute_result"
    }
   ],
   "source": [
    "2 * 10"
   ]
  },
  {
   "cell_type": "markdown",
   "metadata": {},
   "source": [
    "也可以输出一些字符串"
   ]
  },
  {
   "cell_type": "code",
   "execution_count": 2,
   "metadata": {
    "collapsed": false
   },
   "outputs": [
    {
     "name": "stdout",
     "output_type": "stream",
     "text": [
      "Hello World\n"
     ]
    }
   ],
   "source": [
    "print \"Hello World\""
   ]
  },
  {
   "cell_type": "markdown",
   "metadata": {},
   "source": [
    "最重要的是，你可以在一个Cell里面定义变量，然后在后面的Cell里面使用"
   ]
  },
  {
   "cell_type": "code",
   "execution_count": 4,
   "metadata": {
    "collapsed": true
   },
   "outputs": [],
   "source": [
    "x = 2"
   ]
  },
  {
   "cell_type": "code",
   "execution_count": 6,
   "metadata": {
    "collapsed": false
   },
   "outputs": [
    {
     "name": "stdout",
     "output_type": "stream",
     "text": [
      "HelloWorldHelloWorld\n"
     ]
    }
   ],
   "source": [
    "print x * \"HelloWorld\""
   ]
  },
  {
   "cell_type": "markdown",
   "metadata": {},
   "source": []
  },
  {
   "cell_type": "code",
   "execution_count": null,
   "metadata": {
    "collapsed": true
   },
   "outputs": [],
   "source": []
  },
  {
   "cell_type": "code",
   "execution_count": null,
   "metadata": {
    "collapsed": true
   },
   "outputs": [],
   "source": []
  },
  {
   "cell_type": "code",
   "execution_count": null,
   "metadata": {
    "collapsed": true
   },
   "outputs": [],
   "source": []
  },
  {
   "cell_type": "code",
   "execution_count": null,
   "metadata": {
    "collapsed": true
   },
   "outputs": [],
   "source": []
  },
  {
   "cell_type": "code",
   "execution_count": null,
   "metadata": {
    "collapsed": true
   },
   "outputs": [],
   "source": []
  },
  {
   "cell_type": "code",
   "execution_count": null,
   "metadata": {
    "collapsed": true
   },
   "outputs": [],
   "source": []
  }
 ],
 "metadata": {
  "kernelspec": {
   "display_name": "Python 2",
   "language": "python",
   "name": "python2"
  },
  "language_info": {
   "codemirror_mode": {
    "name": "ipython",
    "version": 2
   },
   "file_extension": ".py",
   "mimetype": "text/x-python",
   "name": "python",
   "nbconvert_exporter": "python",
   "pygments_lexer": "ipython2",
   "version": "2.7.10"
  }
 },
 "nbformat": 4,
 "nbformat_minor": 0
}
